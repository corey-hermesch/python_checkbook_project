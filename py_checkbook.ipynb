{
 "cells": [
  {
   "cell_type": "code",
   "execution_count": 17,
   "id": "472d9ff9",
   "metadata": {},
   "outputs": [],
   "source": [
    "# Python Checkbook Project\n",
    "# Simple checkbook program that will \n",
    "# 1. View Current Balance\n",
    "# 2. Make a withdrawal (debit)\n",
    "# 3. Add a deposit (credit)\n",
    "# 4. Exit\n",
    "#\n",
    "# Upon exit, the new balance should be available the next\n",
    "# time the program is run. (i.e. write it to a file)\n",
    "#\n",
    "# For more details, see https://ds.codeup.com/python/project/\n",
    "\n",
    "import os\n",
    "import subprocess\n",
    "import json\n",
    "\n",
    "# global variable definitions\n",
    "# name of file to store the current balance\n",
    "balance_file_name = 'balance.txt'"
   ]
  },
  {
   "cell_type": "code",
   "execution_count": 34,
   "id": "a589780b",
   "metadata": {},
   "outputs": [],
   "source": [
    "def menu_input():\n",
    "    choice = '0'\n",
    "    while True:\n",
    "        print(\"\\nWhat would you like to do? \\n\")\n",
    "        print(\"1) view current balance\")\n",
    "        print(\"2) record a debit (withdraw)\")\n",
    "        print(\"3) record a credit (deposit)\")\n",
    "        print(\"4) exit\\n\")\n",
    "        choice = input(\"Your choice? \")\n",
    "        choice = choice.strip()\n",
    "        if choice in ['1','2','3','4']:\n",
    "            return choice\n",
    "        else:\n",
    "            print(\"That choice is invalid. Please make a valid selection 1-4\\n\")"
   ]
  },
  {
   "cell_type": "code",
   "execution_count": 30,
   "id": "2abc35fe",
   "metadata": {},
   "outputs": [],
   "source": [
    "def write_balance(new_bal_str):\n",
    "    with open(balance_file_name, 'w') as bf:\n",
    "        bf.write(new_bal_str)\n",
    "\n",
    "#write_balance('100.00')"
   ]
  },
  {
   "cell_type": "code",
   "execution_count": 31,
   "id": "713c1046",
   "metadata": {},
   "outputs": [
    {
     "data": {
      "text/plain": [
       "'100.00'"
      ]
     },
     "execution_count": 31,
     "metadata": {},
     "output_type": "execute_result"
    }
   ],
   "source": [
    "def read_balance():\n",
    "    with open(balance_file_name) as bf:\n",
    "        cur_bal_str = bf.read()\n",
    "    return cur_bal_str\n",
    "\n",
    "# read_balance()"
   ]
  },
  {
   "cell_type": "code",
   "execution_count": 88,
   "id": "83217d0b",
   "metadata": {},
   "outputs": [
    {
     "name": "stdout",
     "output_type": "stream",
     "text": [
      "100a\n",
      "4\n",
      "if not c.isdigit fail\n",
      "Invalid entry. Please enter a valid dollar amount (dd.dd):.56\n",
      ".56.00\n"
     ]
    }
   ],
   "source": [
    "def get_valid_money(amount_str):\n",
    "\n",
    "    while True:\n",
    "        amount_str = amount_str.strip('$ ')\n",
    "        period_count = amount_str.count('.')\n",
    "        if period_count > 1:\n",
    "            print(\"period_count > 1 error\")\n",
    "            amount_str = input(\"Invalid entry. Please enter a valid dollar amount (dd.dd):\")            \n",
    "            continue\n",
    "\n",
    "        for c in amount_str:\n",
    "            if c.isdigit() or c == '.':\n",
    "                pass\n",
    "            else:\n",
    "                print(\"if not c.isdigit fail\")\n",
    "                amount_str = input(\"Invalid entry. Please enter a valid dollar amount (dd.dd):\")  \n",
    "                continue            \n",
    "        if period_count == 0:\n",
    "            return (amount_str + \".00\")\n",
    "        if period_count == 1:\n",
    "            dec_index = amount_str.index('.')\n",
    "            if dec_index == 0:\n",
    "                return (\"0\" + amount_str)\n",
    "            if dec_index == (len(amount_str) - 1):\n",
    "                return (amount_str + \"00\")\n",
    "            elif dec_index == (len(amount_str) - 2):\n",
    "                return (amount_str + \"0\")\n",
    "            elif dec_index == (len(amount_str) - 3):\n",
    "                return (amount_str)\n",
    "            else: \n",
    "                print(\"dec_index error\")\n",
    "                amount_str = input(\"Invalid entry. Please enter a valid dollar amount (dd.dd):\")  \n",
    "                continue\n",
    "                \n",
    "amount_str = '100a'\n",
    "print(amount_str)\n",
    "#print(dec_index)\n",
    "print(len(amount_str))\n",
    "print(get_valid_money(amount_str))"
   ]
  },
  {
   "cell_type": "code",
   "execution_count": null,
   "id": "0aec11b7",
   "metadata": {},
   "outputs": [],
   "source": [
    "def debit():\n",
    "    debit_amount_str = input(\"How much would you like to withdraw? \")\n",
    "    debit_amount = get_valid_money(debit_amount_str)"
   ]
  },
  {
   "cell_type": "code",
   "execution_count": 35,
   "id": "ed37942f",
   "metadata": {},
   "outputs": [
    {
     "name": "stdout",
     "output_type": "stream",
     "text": [
      "~~~ Welcome to your terminal checkbook! ~~~\n",
      "\n",
      "What would you like to do? \n",
      "\n",
      "1) view current balance\n",
      "2) record a debit (withdraw)\n",
      "3) record a credit (deposit)\n",
      "4) exit\n",
      "\n",
      "Your choice? 1\n",
      "Your current balance is 100.00\n",
      "\n",
      "What would you like to do? \n",
      "\n",
      "1) view current balance\n",
      "2) record a debit (withdraw)\n",
      "3) record a credit (deposit)\n",
      "4) exit\n",
      "\n",
      "Your choice? 4\n",
      "Thanks, have a great day!\n"
     ]
    }
   ],
   "source": [
    "## main program block\n",
    "\n",
    "print(\"~~~ Welcome to your terminal checkbook! ~~~\")\n",
    "if not os.path.exists(balance_file_name):\n",
    "    print(\"As our way of saying thank you for opening a checking account with us,\")\n",
    "    print(\"we are starting you with a balance of $100.00!\\n\")\n",
    "    # write 100.00 to balance_file_name\n",
    "menu_choice = '0'\n",
    "while True:\n",
    "    menu_choice = menu_input()\n",
    "    if menu_choice == '1':\n",
    "        print(f\"Your current balance is {read_balance()}\")\n",
    "    elif menu_choice == '2':\n",
    "        print('2')\n",
    "    elif menu_choice == '3':\n",
    "        print('3')\n",
    "    elif menu_choice == '4': \n",
    "        print(\"Thanks, have a great day!\")\n",
    "        break"
   ]
  },
  {
   "cell_type": "code",
   "execution_count": 69,
   "id": "9fab22c6",
   "metadata": {},
   "outputs": [
    {
     "name": "stdout",
     "output_type": "stream",
     "text": [
      "100.00\n",
      "3\n",
      "6\n",
      "True\n",
      "True\n",
      "2\n",
      "test = 1000\n"
     ]
    }
   ],
   "source": [
    "# doodling\n",
    "test = ' $100.00'.strip('$ ')\n",
    "print(test)\n",
    "print(test.index('.'))\n",
    "print(len(test))\n",
    "print('100'.isdigit())\n",
    "#print('100'.index('.'))\n",
    "print('.' in '100.00')\n",
    "print('100.00.'.count('.'))\n",
    "test = 1\n",
    "test = f'test = {test:<04}'\n",
    "#print(f'test = {test:<04}')\n",
    "print(test)"
   ]
  },
  {
   "cell_type": "code",
   "execution_count": null,
   "id": "d6e36eea",
   "metadata": {},
   "outputs": [],
   "source": []
  }
 ],
 "metadata": {
  "kernelspec": {
   "display_name": "Python 3 (ipykernel)",
   "language": "python",
   "name": "python3"
  },
  "language_info": {
   "codemirror_mode": {
    "name": "ipython",
    "version": 3
   },
   "file_extension": ".py",
   "mimetype": "text/x-python",
   "name": "python",
   "nbconvert_exporter": "python",
   "pygments_lexer": "ipython3",
   "version": "3.9.13"
  }
 },
 "nbformat": 4,
 "nbformat_minor": 5
}
